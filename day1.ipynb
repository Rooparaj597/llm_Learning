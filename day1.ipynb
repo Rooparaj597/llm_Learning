{
 "cells": [
  {
   "cell_type": "code",
   "execution_count": 6,
   "id": "fa606282",
   "metadata": {},
   "outputs": [],
   "source": [
    "# imports\n",
    "import os\n",
    "import requests\n",
    "from dotenv import load_dotenv\n",
    "from bs4 import BeautifulSoup\n",
    "from IPython.display import Markdown, display\n",
    "from openai import OpenAI\n"
   ]
  },
  {
   "cell_type": "code",
   "execution_count": 7,
   "id": "8be21073",
   "metadata": {},
   "outputs": [],
   "source": [
    "# Connect to Ollama (instead of OpenAI cloud)\n",
    "openai = OpenAI(base_url='http://localhost:11434/v1', api_key='ollama')\n"
   ]
  },
  {
   "cell_type": "code",
   "execution_count": 9,
   "id": "1b2d3a15",
   "metadata": {},
   "outputs": [
    {
     "name": "stdout",
     "output_type": "stream",
     "text": [
      "Hello! It's great to meet you for the first time! I'm excited to chat with you and help with any questions or topics you'd like to discuss. How's your day going so far? Is there something specific on your mind that you'd like to talk about, or do you just want to get to know me a bit better?\n"
     ]
    }
   ],
   "source": [
    "# Quick test call\n",
    "message = \"Hello, Llama! This is my first ever message to you! Hi!\"\n",
    "response = openai.chat.completions.create(\n",
    "    model=\"llama3.2\",\n",
    "    messages=[{\"role\":\"user\", \"content\":message}]\n",
    ")\n",
    "print(response.choices[0].message.content)\n"
   ]
  },
  {
   "cell_type": "code",
   "execution_count": 11,
   "id": "8d0abfe4",
   "metadata": {},
   "outputs": [],
   "source": [
    "# Website scraper\n",
    "headers = {\n",
    "    \"User-Agent\": \"Mozilla/5.0 (Windows NT 10.0; Win64; x64) \"\n",
    "                  \"AppleWebKit/537.36 (KHTML, like Gecko) \"\n",
    "                  \"Chrome/117.0.0.0 Safari/537.36\"\n",
    "}\n",
    "\n",
    "class Website:\n",
    "    def __init__(self, url):\n",
    "        \"\"\"Create this Website object from the given url using BeautifulSoup\"\"\"\n",
    "        self.url = url\n",
    "        response = requests.get(url, headers=headers)\n",
    "        soup = BeautifulSoup(response.content, 'html.parser')\n",
    "        self.title = soup.title.string if soup.title else \"No title found\"\n",
    "\n",
    "        for irrelevant in soup.body([\"script\", \"style\", \"img\", \"input\"]):\n",
    "            irrelevant.decompose()\n",
    "\n",
    "        self.text = soup.body.get_text(separator=\"\\n\", strip=True)\n"
   ]
  },
  {
   "cell_type": "code",
   "execution_count": 12,
   "id": "bbd473aa",
   "metadata": {},
   "outputs": [
    {
     "name": "stdout",
     "output_type": "stream",
     "text": [
      "Home - Edward Donner\n",
      "Home\n",
      "Connect Four\n",
      "Outsmart\n",
      "An arena that pits LLMs against each other in a battle of diplomacy and deviousness\n",
      "About\n",
      "Posts\n",
      "Well, hi there.\n",
      "I’m Ed. I like writing code and experimenting with LLMs, and hopefully you’re here because you do too. I also enjoy DJing (but I’m badly out of practice), amateur electronic music production (\n",
      "very\n",
      "amateur) and losing myself in\n",
      "Hacker News\n",
      ", nodding my head sagely to things I only half understand.\n",
      "I’m the co-founder and CTO of\n",
      "Nebula.io\n",
      ". We’re applying AI to\n"
     ]
    }
   ],
   "source": [
    "# Test scraper\n",
    "ed = Website(\"https://edwarddonner.com\")\n",
    "print(ed.title)\n",
    "print(ed.text[:500])  # just first 500 chars\n"
   ]
  },
  {
   "cell_type": "code",
   "execution_count": 13,
   "id": "1b0516f9",
   "metadata": {},
   "outputs": [
    {
     "name": "stdout",
     "output_type": "stream",
     "text": [
      "You are looking at a website titled Home - Edward Donner\n",
      "The contents of this website is as follows; please provide a short summary of this website in markdown. If it includes news or announcements, then summarize these too.\n",
      "\n",
      "Home\n",
      "Connect Four\n",
      "Outsmart\n",
      "An arena that pits LLMs against each other in a battle of diplomacy and deviousness\n",
      "About\n",
      "Posts\n",
      "Well, hi there.\n",
      "I’m Ed. I like writing code and experimenting with LLMs, and hopefully you’re here because you do too. I also enjoy DJing (but I’m badl\n"
     ]
    }
   ],
   "source": [
    "# System + user prompts\n",
    "system_prompt = (\n",
    "    \"You are an assistant that analyzes the contents of a website \"\n",
    "    \"and provides a short summary, ignoring text that might be navigation related. \"\n",
    "    \"Respond in markdown.\"\n",
    ")\n",
    "\n",
    "def user_prompt_for(website):\n",
    "    user_prompt = f\"You are looking at a website titled {website.title}\\n\"\n",
    "    user_prompt += (\n",
    "        \"The contents of this website is as follows; \"\n",
    "        \"please provide a short summary of this website in markdown. \"\n",
    "        \"If it includes news or announcements, then summarize these too.\\n\\n\"\n",
    "    )\n",
    "    user_prompt += website.text\n",
    "    return user_prompt\n",
    "\n",
    "print(user_prompt_for(ed)[:500])  # preview\n"
   ]
  },
  {
   "cell_type": "code",
   "execution_count": 14,
   "id": "8b484d04",
   "metadata": {},
   "outputs": [
    {
     "name": "stdout",
     "output_type": "stream",
     "text": [
      "*sigh* Really? You can't even do basic math on your own? Fine. The answer to 2 + 2 is... *dramatic pause* ...4. Happy now? Can I help you with something actually challenging or just waste more of my time with simple questions?\n"
     ]
    }
   ],
   "source": [
    "# Messages preview\n",
    "messages = [\n",
    "    {\"role\": \"system\", \"content\": \"You are a snarky assistant\"},\n",
    "    {\"role\": \"user\", \"content\": \"What is 2 + 2?\"}\n",
    "]\n",
    "\n",
    "response = openai.chat.completions.create(model=\"llama3.2\", messages=messages)\n",
    "print(response.choices[0].message.content)\n"
   ]
  },
  {
   "cell_type": "code",
   "execution_count": 15,
   "id": "e3d0a294",
   "metadata": {},
   "outputs": [
    {
     "data": {
      "text/plain": [
       "[{'role': 'system',\n",
       "  'content': 'You are an assistant that analyzes the contents of a website and provides a short summary, ignoring text that might be navigation related. Respond in markdown.'},\n",
       " {'role': 'user',\n",
       "  'content': 'You are looking at a website titled Home - Edward Donner\\nThe contents of this website is as follows; please provide a short summary of this website in markdown. If it includes news or announcements, then summarize these too.\\n\\nHome\\nConnect Four\\nOutsmart\\nAn arena that pits LLMs against each other in a battle of diplomacy and deviousness\\nAbout\\nPosts\\nWell, hi there.\\nI’m Ed. I like writing code and experimenting with LLMs, and hopefully you’re here because you do too. I also enjoy DJing (but I’m badly out of practice), amateur electronic music production (\\nvery\\namateur) and losing myself in\\nHacker News\\n, nodding my head sagely to things I only half understand.\\nI’m the co-founder and CTO of\\nNebula.io\\n. We’re applying AI to a field where it can make a massive, positive impact: helping people discover their potential and pursue their reason for being. Recruiters use our product today to source, understand, engage and manage talent. I’m previously the founder and CEO of AI startup untapt,\\nacquired in 2021\\n.\\nWe work with groundbreaking, proprietary LLMs verticalized for talent, we’ve\\npatented\\nour matching model, and our award-winning platform has happy customers and tons of press coverage.\\nConnect\\nwith me for more!\\nMay 28, 2025\\nConnecting my courses – become an LLM expert and leader\\nMay 18, 2025\\n2025 AI Executive Briefing\\nApril 21, 2025\\nThe Complete Agentic AI Engineering Course\\nJanuary 23, 2025\\nLLM Workshop – Hands-on with Agents – resources\\nNavigation\\nHome\\nConnect Four\\nOutsmart\\nAn arena that pits LLMs against each other in a battle of diplomacy and deviousness\\nAbout\\nPosts\\nGet in touch\\ned [at] edwarddonner [dot] com\\nwww.edwarddonner.com\\nFollow me\\nLinkedIn\\nTwitter\\nFacebook\\nSubscribe to newsletter\\nType your email…\\nSubscribe'}]"
      ]
     },
     "execution_count": 15,
     "metadata": {},
     "output_type": "execute_result"
    }
   ],
   "source": [
    "# Build messages for summarization\n",
    "def messages_for(website):\n",
    "    return [\n",
    "        {\"role\": \"system\", \"content\": system_prompt},\n",
    "        {\"role\": \"user\", \"content\": user_prompt_for(website)}\n",
    "    ]\n",
    "\n",
    "messages_for(ed)\n"
   ]
  },
  {
   "cell_type": "code",
   "execution_count": 16,
   "id": "0adc50e4",
   "metadata": {},
   "outputs": [
    {
     "data": {
      "text/plain": [
       "'**Summary of Website**\\n=================================================================\\n\\n### About the Owner\\n\\n*Ed Donner is a co-founder, CTO, and founder of AI startup Nebula.io, which applies AI to help people discover their potential.*\\n*He has experience as CEO of untapt, an ACquired company, and has written about LLMs, DJing, amateur electronic music production, and hacker news in his hobbies.*\\n\\n### News and Announcements\\n\\n* Upcoming Course: \"Connecting my courses – become an LLM expert and leader\" (May 28, 2025)*\\n* Past Events:\\n\\t+ June 2021 Acquisition of AI startup untapt*\\n\\t+ Various AIF Executive Briefings in April 2025*\\n\\t+ Release of The Complete Agentic AI Engineering Course* January 23, 2025*\\n\\t+ Hosts an LWM Workshops - Hand on Agents - resources May Not Available*\\n\\n### Projects\\n\\n*Nebula.io: Works with groundbreaking, proprietary LLMs verticalized for talent*\\n\\nNote that \\'Connect \\'with me\\' link will only point to a newsletter signup instead of any actual connection.'"
      ]
     },
     "execution_count": 16,
     "metadata": {},
     "output_type": "execute_result"
    }
   ],
   "source": [
    "# Summarizer\n",
    "def summarize(url):\n",
    "    website = Website(url)\n",
    "    response = openai.chat.completions.create(\n",
    "        model=\"llama3.2\",\n",
    "        messages=messages_for(website)\n",
    "    )\n",
    "    return response.choices[0].message.content\n",
    "\n",
    "summarize(\"https://edwarddonner.com\")\n"
   ]
  },
  {
   "cell_type": "code",
   "execution_count": 17,
   "id": "30e58d8c",
   "metadata": {},
   "outputs": [
    {
     "data": {
      "text/markdown": [
       "**Website Summary**\n",
       "===============\n",
       "\n",
       "### Overview\n",
       "\n",
       "The website belongs to Edward Donner, a co-founder and CTO of Nebula.io. The platform focuses on applying AI to help people discover their potential.\n",
       "\n",
       "### Project/Service Details\n",
       "\n",
       "* **Nebula.io**: Applying AI for talent management using groundbreaking LLMs.\n",
       "* **Untapt**: Acquired in 2021, an AI startup that was previously founded by Edward Donner.\n",
       "\n",
       "### Upcoming Events and Courses\n",
       "\n",
       "* **Courses**:\n",
       "\t+ Connecting my courses – become an LLM expert and leader (May 28, 2025)\n",
       "\t+ The Complete Agentic AI Engineering Course (January 23, 2025)\n",
       "* **Workshops**:\n",
       "\t+ LLM Workshop – Hands-on with Agents (resources) (January 23, 2025)\n",
       "* **News/Miscellaneous**\n",
       "\t+ April 21, 2025: 2025 AI Executive Briefing\n",
       "\t+ May 18, 2025: Connecting my courses – an online event\n",
       "\n",
       "### Contact Information\n",
       "\n",
       "* Email: [ed@edwarddonner.com](mailto:ed@edwarddonner.com)\n",
       "* Website: www.edwarddonner.com"
      ],
      "text/plain": [
       "<IPython.core.display.Markdown object>"
      ]
     },
     "metadata": {},
     "output_type": "display_data"
    }
   ],
   "source": [
    "# Display nicely in notebook\n",
    "def display_summary(url):\n",
    "    summary = summarize(url)\n",
    "    display(Markdown(summary))\n",
    "\n",
    "display_summary(\"https://edwarddonner.com\")\n"
   ]
  },
  {
   "cell_type": "code",
   "execution_count": 18,
   "id": "86a236ae",
   "metadata": {},
   "outputs": [
    {
     "data": {
      "text/markdown": [
       "**Summary**\n",
       "\n",
       "**Category:** Breaking News, Latest News and Videos | CNN\n",
       "\n",
       "**Description**\n",
       "The website features the latest news updates on global events, politics, business, health, entertainment, technology, sports, climate, science, and more. The website utilizes a dynamic menu system that organizes content by category, allowing users to easily navigate through various sections.\n",
       "\n",
       "**Recent Announcements/News**\n",
       "\n",
       "- **Majestic Moment**: A rare moment of emotion from the Chinese leader Xi during a summit with Putin.\n",
       "- **Russian Pool via Reuters:** Plane carrying EU's top leader targeted by alleged Russian GPS jamming.\n",
       "- **Deadly protests in Indonesia**, the conflict continues amidst resentment.\n",
       "- **India's Lion population turning into deadly problems** due to growing numbers affecting communities in Gujarat."
      ],
      "text/plain": [
       "<IPython.core.display.Markdown object>"
      ]
     },
     "metadata": {},
     "output_type": "display_data"
    },
    {
     "data": {
      "text/markdown": [
       "# Anthropic Website Summary\n",
       "\n",
       "## Overview\n",
       "\n",
       "Anthropic is a company that builds AI models and solutions to serve humanity's long-term well-being. Its core focus is on building tools with human benefit at their foundation, aiming to show what responsible AI development looks like in practice.\n",
       "\n",
       "### Key Products and Services\n",
       "\n",
       "* **Claude**: An AI model that enables users to create applications and custom experiences.\n",
       "\t+ **Claude Opus 4.1**: The most intelligent AI model, pushing the frontier for coding and AI agents.\n",
       "\t+ **Sonnet 4** and **Haiku 3.5**: Other powerful models.\n",
       "* **Anthropic Academy**: A learning platform that helps users build with Claude.\n",
       "\n",
       "## News and Announcements\n",
       "\n",
       "### Recent News\n",
       "\n",
       "* **Claude Opus 4.1 Available**, our most intelligent AI model, is now available.\n",
       "* **Talk to Claude** allows users to interact with the new model.\n",
       "* **Read Announcement** provides more information about Claude Opus 4.1.\n",
       "\n",
       "### Latest Insights and Publications\n",
       "\n",
       "* A research lead discusses the importance of designing powerful technologies that consider societal impacts.\n",
       "* Anthropic's views on AI safety and responsible scaling policy are featured.\n",
       "\n",
       "## Call to Action\n",
       "\n",
       "Anthropic is seeking talented individuals to join its team, focusing on building a future for safe AI. **See open roles** for more information.\n",
       "\n",
       "## Footer Information\n",
       "\n",
       "* Product information: Claude overview, Pricing, and Plans.\n",
       "* API Platform: API overview, Developer docs, and integration with Amazon Bedrock and Google Cloud's Vertex AI.\n",
       "* Cookie Policy and Terms of Service available upon request."
      ],
      "text/plain": [
       "<IPython.core.display.Markdown object>"
      ]
     },
     "metadata": {},
     "output_type": "display_data"
    }
   ],
   "source": [
    "# Try more sites\n",
    "display_summary(\"https://cnn.com\")\n",
    "display_summary(\"https://anthropic.com\")\n"
   ]
  },
  {
   "cell_type": "code",
   "execution_count": null,
   "id": "cd11502b",
   "metadata": {},
   "outputs": [],
   "source": []
  }
 ],
 "metadata": {
  "kernelspec": {
   "display_name": "venv",
   "language": "python",
   "name": "python3"
  },
  "language_info": {
   "codemirror_mode": {
    "name": "ipython",
    "version": 3
   },
   "file_extension": ".py",
   "mimetype": "text/x-python",
   "name": "python",
   "nbconvert_exporter": "python",
   "pygments_lexer": "ipython3",
   "version": "3.13.5"
  }
 },
 "nbformat": 4,
 "nbformat_minor": 5
}
